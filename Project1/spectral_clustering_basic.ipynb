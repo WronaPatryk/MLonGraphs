{
 "cells": [
  {
   "cell_type": "markdown",
   "id": "b513f6c5",
   "metadata": {},
   "source": [
    "# Spectral clustering - basic version"
   ]
  },
  {
   "attachments": {},
   "cell_type": "markdown",
   "id": "9b4844d0",
   "metadata": {},
   "source": [
    "### 1. Importing data\n",
    "#### 1.1 Artificial data\n",
    "Directories in \"Project1\" directory:\n",
    "- https://github.com/gagolews/clustering-benchmarks\n",
    "- https://github.com/gagolews/clustering-data-v1"
   ]
  },
  {
   "cell_type": "code",
   "execution_count": 58,
   "id": "6d1bd22f",
   "metadata": {},
   "outputs": [],
   "source": [
    "# !pip install natsort\n",
    "# !pip install genieclust"
   ]
  },
  {
   "cell_type": "code",
   "execution_count": 59,
   "id": "de4cf806",
   "metadata": {},
   "outputs": [],
   "source": [
    "from artificial_data import *\n",
    "X, labels = importBiggerArtificialData()\n",
    "# X, labels = importSmallerArtificialData()\n"
   ]
  },
  {
   "cell_type": "code",
   "execution_count": 60,
   "id": "48db1b22",
   "metadata": {},
   "outputs": [
    {
     "data": {
      "text/plain": [
       "array([3, 3, 3, ..., 2, 2, 2])"
      ]
     },
     "execution_count": 60,
     "metadata": {},
     "output_type": "execute_result"
    }
   ],
   "source": [
    "labels[0]"
   ]
  },
  {
   "attachments": {},
   "cell_type": "markdown",
   "id": "0564abd4",
   "metadata": {},
   "source": [
    "#### 1.2 Real data\n",
    "Data obtained from https://snap.stanford.edu/data/gemsec-Facebook.html"
   ]
  },
  {
   "cell_type": "code",
   "execution_count": 61,
   "id": "9de48dbb",
   "metadata": {},
   "outputs": [],
   "source": [
    "from real_data import *\n",
    "# X = importFacebookTvShowData()\n",
    "# X = importFacebookArtistData()"
   ]
  },
  {
   "attachments": {},
   "cell_type": "markdown",
   "id": "dc87001b",
   "metadata": {},
   "source": [
    "### 2. Importing libraries"
   ]
  },
  {
   "cell_type": "code",
   "execution_count": 62,
   "id": "22553625",
   "metadata": {},
   "outputs": [],
   "source": [
    "from sklearn.neighbors import NearestNeighbors\n",
    "from sklearn.neighbors import kneighbors_graph\n",
    "import numpy as np\n",
    "import math"
   ]
  },
  {
   "attachments": {},
   "cell_type": "markdown",
   "id": "82c781bc",
   "metadata": {},
   "source": [
    "### 3. Data pre-processing\n",
    "#### 3.1 Faithful sampling\n",
    "Following functionalities are responsible for performing faithful sampling on the originl artifical data set. The aim is to reduce the size of the data by aggregating the points into representative communities"
   ]
  },
  {
   "cell_type": "code",
   "execution_count": 63,
   "id": "7cf6f570",
   "metadata": {},
   "outputs": [],
   "source": [
    "# Function marks a given point as registered\n",
    "#\n",
    "# pt - point to be marked as registered\n",
    "# data - data set\n",
    "def markPointRegistered(pt, data):\n",
    "    # selecting corresponding point in data set\n",
    "    mask = np.apply_along_axis(lambda x: np.array_equal(x[0], pt), 1, data)\n",
    "    \n",
    "    # marking point as registered\n",
    "    temp = data[mask]                                                       \n",
    "    temp[:, 1] = True\n",
    "    data[mask] = temp\n",
    "\n",
    "\n",
    "# Function initializes the data by marking all points as unregistered\n",
    "#\n",
    "# data - data set\n",
    "# return: 2D ndarray of the form: [[<point coord.>], False]\n",
    "def initializeUnregisteredPoints(X):\n",
    "    return np.apply_along_axis(lambda x: np.array([x, False], dtype=object), 1, X)\n"
   ]
  },
  {
   "cell_type": "code",
   "execution_count": 64,
   "id": "317d48b8",
   "metadata": {},
   "outputs": [],
   "source": [
    "# Function executes faithful sampling algorithm\n",
    "# (based on: https://bmcbioinformatics.biomedcentral.com/counter/pdf/10.1186/1471-2105-11-403.pdf)\n",
    "#\n",
    "# X - data set\n",
    "# m - maximal number of communities in a single cluster (initially 1000)\n",
    "# return: list of points aggregated in communities\n",
    "def faithfulSampling(X, m = 100):\n",
    "\n",
    "    dim = len(X[0])              # dimension of the data set\n",
    "    n = len(X)                   # size of the data set\n",
    "    V = n * dim                  # space volume\n",
    "\n",
    "    h = (1/2) * (V/m)**(1/dim)   # initializing h\n",
    "    m1 = m                       # setting initial communities size\n",
    "\n",
    "    \n",
    "    # iterate untill size of h will no longer be adjustable\n",
    "    while((m/2) <= m1 and m1 <= m):\n",
    "\n",
    "        data = initializeUnregisteredPoints(X)                      # mark all data points as unregistered\n",
    "        communities = []                                            # initialize communities buckets\n",
    "        \n",
    "        # iterate until all data points are registered\n",
    "        while(np.any(data[:, 1] == False)):\n",
    "\n",
    "            unregistered = data[data[:, 1] == False][:, 0]          # taking unregistered data\n",
    "            randomPt = np.random.choice(unregistered, 1)[0]         # selecting random data point\n",
    "\n",
    "            community = np.empty((0, dim))                             # initializing local community\n",
    "\n",
    "            for pt in unregistered:\n",
    "                distance = np.linalg.norm(pt - randomPt)            # computing euclidean distance\n",
    "\n",
    "                if(distance < h):\n",
    "                    markPointRegistered(pt, data)                    # marking point as registered\n",
    "                    community = np.append(community, [pt], axis=0)   # adding point to local community\n",
    "\n",
    "            communities.append(community)\n",
    "        \n",
    "        m1 = len(communities)       # computing new maximal community length\n",
    "        h = h * (m1/m)**(1/dim)     # adjusting maximal distance\n",
    "\n",
    "    print(f\"Number of communities: {len(communities)}\")\n",
    "    return communities"
   ]
  },
  {
   "attachments": {},
   "cell_type": "markdown",
   "id": "d7756381",
   "metadata": {},
   "source": [
    "### 4. Spectral clustering\n",
    "#### 4.1 Compute similarity graph\n",
    "The first step considers constructing the similarity graph. Here, two approaches were implemented:\n",
    "- KNN (K Nearest Neighbours) graph\n",
    "- graph constructed based on the similarity measure from *faithful sampling*"
   ]
  },
  {
   "cell_type": "code",
   "execution_count": null,
   "id": "d85de9a8",
   "metadata": {},
   "outputs": [],
   "source": [
    "# Function constructs the graph representation by connecting the vertices using KNN approach\n",
    "#\n",
    "# X - data set\n",
    "# M - number of neighbours (initially 5)\n",
    "# return: ndarray adjacency matrix representing the graph\n",
    "def adjacencyMatrixUsingMnearestNeighbors(X, M = 5):\n",
    "    \n",
    "    knn = NearestNeighbors(n_neighbors=M)\n",
    "    knn.fit(X)\n",
    "    dist_indx_arr = knn.kneighbors(X, return_distance=True, n_neighbors = M)\n",
    "    \n",
    "    A = kneighbors_graph(X, n_neighbors=(M-1), p=2, mode='connectivity', include_self=False)\n",
    "    return A.toarray(), dist_indx_arr # dist_indx_arr will be useful while connecting the graph\n",
    "\n",
    "# Function constructs the graph representation by using similarity measures computed on communities obtained after faithful sampling\n",
    "#\n",
    "# communities - communities of points\n",
    "# def adjacencyMatrixUsingSimilarityMeasures(communities):\n",
    "def adjacencyMatrixUsingSimilarityCommunities(communities):\n",
    "    # TODO\n",
    "    return communities\n"
   ]
  },
  {
   "cell_type": "code",
   "execution_count": null,
   "id": "11102aa4",
   "metadata": {},
   "outputs": [
    {
     "name": "stdout",
     "output_type": "stream",
     "text": [
      "Number of communities: 1\n"
     ]
    }
   ],
   "source": [
    "def connectTheGraph(A, dist_indx_arr=None):\n",
    "    \n",
    "    # to be implemented\n",
    "    \n",
    "    return A\n",
    "\n",
    "def graphLaplacian(A):\n",
    "    D = np.eye(A.shape[0]) * A.sum(axis=0) # diagonal matrix of degrees\n",
    "    return D  - A # L = D - A\n",
    "    \n",
    "\n",
    "def calculateEigenVectorsOfGraphLaplacian(L):\n",
    "    eigenValues, eigenVectors = np.linalg.eig(L)\n",
    "    eigenValues, eigenVectors = eigenValues.real, eigenVectors.real\n",
    "    \n",
    "    idx = eigenValues.argsort()[::1]   \n",
    "    eigenValues = eigenValues[idx]\n",
    "    eigenVectors = eigenVectors[:,idx]\n",
    "    \n",
    "    return eigenValues,eigenVectors\n",
    "    \n",
    "    \n",
    "    \n",
    "def nodeRepresentation(eigenVectors, nodeRepresentationDim, n_of_components=1):\n",
    "    m = n_of_components # we assume n of connected components = 1\n",
    "    Z = eigenVectors[:,m:(nodeRepresentationDim + m)] # we omit m first eigenvectors, where m is the number of components of graph from A\n",
    "    return Z\n",
    "    \n",
    "    "
   ]
  },
  {
   "cell_type": "code",
   "execution_count": null,
   "id": "4e31e25e",
   "metadata": {},
   "outputs": [],
   "source": [
    "from sklearn.cluster import KMeans\n",
    "\n",
    "X, labels = importSmallerArtificialData()\n",
    "\n",
    "\n",
    "def spectralClustering(X, n_of_clusters=3, M=3, nodeRepresentationDim=3):\n",
    "    \n",
    "    A, d = adjacencyMatrixUsingMnearestNeighbors(X, M=M)\n",
    "    A_connected = connectTheGraph(A, d)\n",
    "    L = graphLaplacian(A_connected)\n",
    "    w,v = calculateEigenVectorsOfGraphLaplacian(L)\n",
    "    Z = nodeRepresentation(v,nodeRepresentationDim,n_of_components=1)\n",
    "    \n",
    "\n",
    "    print(Z.shape)\n",
    "    kmeans = KMeans(n_clusters=n_of_clusters, random_state=0, n_init=100).fit(Z)\n",
    "    return kmeans.labels_\n",
    "\n",
    "\n",
    "\n"
   ]
  },
  {
   "cell_type": "code",
   "execution_count": null,
   "id": "f0753236",
   "metadata": {},
   "outputs": [
    {
     "name": "stdout",
     "output_type": "stream",
     "text": [
      "(192, 3)\n"
     ]
    },
    {
     "data": {
      "text/plain": [
       "array([1, 1, 1, 1, 1, 1, 0, 1, 0, 1, 1, 1, 1, 0, 2, 1, 2, 1, 1, 1, 1, 1,\n",
       "       1, 1, 1, 1, 0, 1, 2, 2, 1, 1, 1, 1, 1, 1, 1, 2, 2, 2, 2, 1, 1, 1,\n",
       "       2, 2, 2, 1, 2, 1, 1, 1, 1, 2, 1, 2, 2, 1, 1, 2, 1, 1, 1, 1, 1, 1,\n",
       "       1, 1, 1, 1, 0, 1, 1, 1, 1, 2, 2, 1, 2, 1, 2, 1, 2, 1, 1, 2, 1, 0,\n",
       "       1, 1, 1, 1, 1, 0, 2, 1, 1, 1, 1, 1, 1, 2, 1, 1, 2, 1, 1, 1, 0, 1,\n",
       "       1, 2, 1, 1, 1, 1, 2, 1, 1, 2, 1, 1, 1, 1, 1, 1, 1, 1, 1, 1, 1, 1,\n",
       "       1, 1, 1, 2, 1, 1, 1, 1, 1, 1, 1, 1, 1, 1, 0, 1, 1, 0, 1, 2, 1, 1,\n",
       "       1, 1, 0, 1, 2, 1, 1, 1, 2, 1, 1, 2, 1, 1, 1, 1, 1, 1, 1, 2, 1, 1,\n",
       "       1, 2, 1, 0, 1, 0, 1, 1, 1, 1, 1, 0, 1, 1, 1, 1])"
      ]
     },
     "execution_count": 17,
     "metadata": {},
     "output_type": "execute_result"
    }
   ],
   "source": [
    "spectralClustering(X, n_of_clusters=3, nodeRepresentationDim=3, M=10)"
   ]
  },
  {
   "cell_type": "code",
   "execution_count": null,
   "id": "caa0c820",
   "metadata": {},
   "outputs": [
    {
     "name": "stdout",
     "output_type": "stream",
     "text": [
      "(192, 3)\n"
     ]
    },
    {
     "data": {
      "text/plain": [
       "0.1556657165149489"
      ]
     },
     "execution_count": 18,
     "metadata": {},
     "output_type": "execute_result"
    }
   ],
   "source": [
    "from sklearn.metrics import adjusted_rand_score as AR\n",
    "\n",
    "spectral_labels = spectralClustering(X, n_of_clusters=3, nodeRepresentationDim=3, M=10)\n",
    "\n",
    "AR(spectral_labels, labels[0])"
   ]
  }
 ],
 "metadata": {
  "kernelspec": {
   "display_name": "Python 3",
   "language": "python",
   "name": "python3"
  },
  "language_info": {
   "codemirror_mode": {
    "name": "ipython",
    "version": 3
   },
   "file_extension": ".py",
   "mimetype": "text/x-python",
   "name": "python",
   "nbconvert_exporter": "python",
   "pygments_lexer": "ipython3",
   "version": "3.8.2"
  },
  "vscode": {
   "interpreter": {
    "hash": "570feb405e2e27c949193ac68f46852414290d515b0ba6e5d90d076ed2284471"
   }
  }
 },
 "nbformat": 4,
 "nbformat_minor": 5
}
