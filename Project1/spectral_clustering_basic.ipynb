{
 "cells": [
  {
   "cell_type": "markdown",
   "id": "b513f6c5",
   "metadata": {},
   "source": [
    "# Spectral clustering - basic version"
   ]
  },
  {
   "cell_type": "markdown",
   "id": "9b4844d0",
   "metadata": {},
   "source": [
    "### Importing artificial data"
   ]
  },
  {
   "cell_type": "code",
   "execution_count": null,
   "id": "ded06c58",
   "metadata": {},
   "outputs": [],
   "source": [
    "# Directories in \"Project1\" directory:\n",
    "\n",
    "# https://github.com/gagolews/clustering-benchmarks\n",
    "# https://github.com/gagolews/clustering-data-v1"
   ]
  },
  {
   "cell_type": "code",
   "execution_count": null,
   "id": "6d1bd22f",
   "metadata": {},
   "outputs": [],
   "source": [
    "# !pip install natsort\n",
    "# !pip install genieclust"
   ]
  },
  {
   "cell_type": "code",
   "execution_count": 335,
   "id": "de4cf806",
   "metadata": {},
   "outputs": [],
   "source": [
    "from artificial_data import *\n",
    "X, labels = importBiggerArtificialData()\n",
    "# X, labels = importSmallerArtificialData()\n"
   ]
  },
  {
   "cell_type": "code",
   "execution_count": 337,
   "id": "48db1b22",
   "metadata": {},
   "outputs": [
    {
     "data": {
      "text/plain": [
       "array([3, 3, 3, ..., 2, 2, 2])"
      ]
     },
     "execution_count": 337,
     "metadata": {},
     "output_type": "execute_result"
    }
   ],
   "source": [
    "labels[0]"
   ]
  },
  {
   "cell_type": "code",
   "execution_count": 330,
   "id": "11102aa4",
   "metadata": {},
   "outputs": [],
   "source": [
    "from sklearn.neighbors import NearestNeighbors\n",
    "from sklearn.neighbors import kneighbors_graph\n",
    "import numpy as np\n",
    "\n",
    "\n",
    "def adjacencyMatrixUsingMnearestNeighbors(X, M = 5):\n",
    "    \n",
    "    knn = NearestNeighbors(n_neighbors=M)\n",
    "    knn.fit(X)\n",
    "    dist_indx_arr = knn.kneighbors(X, return_distance=True, n_neighbors = M)\n",
    "    \n",
    "    A = kneighbors_graph(X, n_neighbors=(M-1), p=2, mode='connectivity', include_self=False)\n",
    "    return A.toarray(), dist_indx_arr # dist_indx_arr will be useful while connecting the graph\n",
    "\n",
    "    \n",
    "    \n",
    "def connectTheGraph(A, dist_indx_arr=None):\n",
    "    \n",
    "    # to be implemented\n",
    "    \n",
    "    return A\n",
    "\n",
    "def graphLaplacian(A):\n",
    "    D = np.eye(A.shape[0]) * A.sum(axis=0) # diagonal matrix of degrees\n",
    "    return D  - A # L = D - A\n",
    "    \n",
    "\n",
    "\n",
    "\n",
    "def calculateEigenVectorsOfGraphLaplacian(L):\n",
    "    eigenValues, eigenVectors = np.linalg.eig(L)\n",
    "    eigenValues, eigenVectors = eigenValues.real, eigenVectors.real\n",
    "    \n",
    "    idx = eigenValues.argsort()[::1]   \n",
    "    eigenValues = eigenValues[idx]\n",
    "    eigenVectors = eigenVectors[:,idx]\n",
    "    \n",
    "    return eigenValues,eigenVectors\n",
    "    \n",
    "    \n",
    "    \n",
    "def nodeRepresentation(eigenVectors, nodeRepresentationDim, n_of_components=1):\n",
    "    m = n_of_components # we assume n of connected components = 1\n",
    "    Z = v[:,m:(nodeRepresentationDim + m)] # we omit m first eigenvectors, where m is the number of components of graph from A\n",
    "    return Z\n",
    "    \n",
    "    \n",
    "    \n",
    "    \n",
    "    "
   ]
  },
  {
   "cell_type": "code",
   "execution_count": 331,
   "id": "4e31e25e",
   "metadata": {},
   "outputs": [],
   "source": [
    "from sklearn.cluster import KMeans\n",
    "\n",
    "X, labels = importSmallerArtificialData()\n",
    "\n",
    "\n",
    "def spectralClustering(X, n_of_clusters=3, M=3, nodeRepresentationDim=3):\n",
    "    \n",
    "    A, d = adjacencyMatrixUsingMnearestNeighbors(X, M=M)\n",
    "    A_connected = connectTheGraph(A, d)\n",
    "    L = graphLaplacian(A_connected)\n",
    "    w,v = calculateEigenVectorsOfGraphLaplacian(L)\n",
    "    Z = nodeRepresentation(v,nodeRepresentationDim,n_of_components=1)\n",
    "    \n",
    "\n",
    "    print(Z.shape)\n",
    "    kmeans = KMeans(n_clusters=n_of_clusters, random_state=0, n_init=100).fit(Z)\n",
    "    return kmeans.labels_\n",
    "\n",
    "\n",
    "\n"
   ]
  },
  {
   "cell_type": "code",
   "execution_count": 332,
   "id": "f0753236",
   "metadata": {},
   "outputs": [
    {
     "name": "stdout",
     "output_type": "stream",
     "text": [
      "(192, 3)\n"
     ]
    },
    {
     "data": {
      "text/plain": [
       "array([1, 0, 2, 2, 0, 1, 0, 2, 0, 2, 0, 2, 0, 0, 0, 2, 0, 1, 1, 0, 2, 0,\n",
       "       0, 2, 0, 0, 0, 0, 0, 0, 2, 0, 2, 0, 1, 0, 0, 0, 0, 0, 0, 1, 0, 0,\n",
       "       0, 0, 0, 0, 0, 0, 1, 0, 0, 0, 0, 0, 0, 0, 0, 0, 0, 0, 0, 2, 0, 1,\n",
       "       0, 0, 2, 0, 0, 2, 0, 1, 2, 0, 0, 0, 0, 0, 0, 0, 0, 0, 0, 0, 0, 0,\n",
       "       0, 0, 0, 0, 2, 0, 0, 0, 2, 0, 0, 2, 0, 0, 0, 2, 0, 0, 2, 0, 0, 0,\n",
       "       0, 0, 1, 0, 0, 0, 0, 0, 0, 0, 0, 0, 2, 0, 0, 0, 2, 1, 1, 0, 0, 0,\n",
       "       0, 0, 0, 0, 2, 1, 0, 2, 0, 0, 2, 1, 1, 0, 0, 2, 0, 0, 0, 0, 0, 0,\n",
       "       2, 0, 0, 0, 0, 0, 0, 1, 0, 0, 1, 0, 0, 0, 0, 0, 0, 0, 0, 0, 0, 0,\n",
       "       2, 0, 0, 0, 0, 0, 0, 1, 0, 0, 1, 0, 0, 0, 0, 2])"
      ]
     },
     "execution_count": 332,
     "metadata": {},
     "output_type": "execute_result"
    }
   ],
   "source": [
    "spectralClustering(X, n_of_clusters=3, nodeRepresentationDim=3, M=10)"
   ]
  },
  {
   "cell_type": "code",
   "execution_count": 334,
   "id": "caa0c820",
   "metadata": {},
   "outputs": [
    {
     "name": "stdout",
     "output_type": "stream",
     "text": [
      "(192, 3)\n"
     ]
    },
    {
     "data": {
      "text/plain": [
       "0.04461839907181406"
      ]
     },
     "execution_count": 334,
     "metadata": {},
     "output_type": "execute_result"
    }
   ],
   "source": [
    "from sklearn.metrics import adjusted_rand_score as AR\n",
    "\n",
    "spectral_labels = spectralClustering(X, n_of_clusters=3, nodeRepresentationDim=3, M=10)\n",
    "\n",
    "AR(spectral_labels, labels[0])"
   ]
  }
 ],
 "metadata": {
  "kernelspec": {
   "display_name": "Python 3 (ipykernel)",
   "language": "python",
   "name": "python3"
  },
  "language_info": {
   "codemirror_mode": {
    "name": "ipython",
    "version": 3
   },
   "file_extension": ".py",
   "mimetype": "text/x-python",
   "name": "python",
   "nbconvert_exporter": "python",
   "pygments_lexer": "ipython3",
   "version": "3.10.8"
  }
 },
 "nbformat": 4,
 "nbformat_minor": 5
}
