{
 "cells": [
  {
   "cell_type": "markdown",
   "id": "b513f6c5",
   "metadata": {},
   "source": [
    "# Spectral clustering - basic version"
   ]
  },
  {
   "attachments": {},
   "cell_type": "markdown",
   "id": "9b4844d0",
   "metadata": {},
   "source": [
    "### 1. Importing artificial data"
   ]
  },
  {
   "cell_type": "code",
   "execution_count": 11,
   "id": "ded06c58",
   "metadata": {},
   "outputs": [],
   "source": [
    "# Directories in \"Project1\" directory:\n",
    "\n",
    "# https://github.com/gagolews/clustering-benchmarks\n",
    "# https://github.com/gagolews/clustering-data-v1"
   ]
  },
  {
   "cell_type": "code",
   "execution_count": 12,
   "id": "6d1bd22f",
   "metadata": {},
   "outputs": [],
   "source": [
    "# !pip install natsort\n",
    "# !pip install genieclust"
   ]
  },
  {
   "cell_type": "code",
   "execution_count": 2,
   "id": "de4cf806",
   "metadata": {},
   "outputs": [],
   "source": [
    "from artificial_data import *\n",
    "# X, labels = importBiggerArtificialData()\n",
    "X, labels = importSmallerArtificialData()\n"
   ]
  },
  {
   "cell_type": "code",
   "execution_count": 14,
   "id": "48db1b22",
   "metadata": {},
   "outputs": [
    {
     "data": {
      "text/plain": [
       "array([1, 3, 2, 3, 3, 1, 2, 3, 2, 2, 3, 2, 2, 2, 1, 3, 1, 1, 1, 3, 3, 2,\n",
       "       2, 3, 2, 3, 2, 3, 1, 1, 3, 3, 3, 2, 1, 2, 3, 1, 1, 1, 1, 1, 3, 1,\n",
       "       1, 1, 1, 2, 1, 2, 1, 3, 2, 1, 3, 1, 1, 3, 2, 1, 2, 1, 3, 3, 2, 1,\n",
       "       3, 3, 3, 3, 2, 2, 2, 1, 3, 1, 1, 2, 1, 3, 1, 2, 1, 3, 1, 1, 2, 2,\n",
       "       3, 3, 1, 2, 3, 2, 1, 2, 3, 3, 3, 3, 3, 1, 2, 2, 1, 3, 2, 1, 2, 2,\n",
       "       2, 1, 1, 3, 2, 1, 1, 2, 2, 1, 2, 3, 3, 1, 2, 2, 2, 1, 1, 2, 3, 3,\n",
       "       2, 3, 3, 1, 3, 1, 1, 3, 3, 3, 3, 1, 1, 2, 2, 3, 2, 2, 3, 1, 2, 3,\n",
       "       2, 1, 2, 3, 1, 3, 2, 1, 1, 3, 1, 1, 2, 2, 3, 3, 2, 2, 3, 1, 3, 3,\n",
       "       2, 1, 3, 2, 3, 2, 2, 1, 2, 2, 1, 2, 2, 1, 3, 3])"
      ]
     },
     "execution_count": 14,
     "metadata": {},
     "output_type": "execute_result"
    }
   ],
   "source": [
    "labels[0]"
   ]
  },
  {
   "attachments": {},
   "cell_type": "markdown",
   "id": "82c781bc",
   "metadata": {},
   "source": [
    "### 2. Data pre-processing\n",
    "#### 2.1 Faithful sampling\n",
    "Following functionalities are responsible for performing faithful sampling on the originl artifical data set. The aim is to reduce the size of the input data by aggregating the points into sample communities"
   ]
  },
  {
   "attachments": {},
   "cell_type": "markdown",
   "id": "412d7512",
   "metadata": {},
   "source": [
    "##### Helper functions"
   ]
  },
  {
   "cell_type": "code",
   "execution_count": 14,
   "id": "7cf6f570",
   "metadata": {},
   "outputs": [],
   "source": [
    "import numpy as np\n",
    "\n",
    "# Function marks a given point as registered\n",
    "#\n",
    "# pt - point to be marked as registered\n",
    "# data - data set\n",
    "def markPointRegistered(pt, data):\n",
    "    # selecting corresponding point in data set\n",
    "    mask = np.apply_along_axis(lambda x: np.array_equal(x[0], pt), 1, data)\n",
    "    \n",
    "    # marking point as registered\n",
    "    temp = data[mask]                                                       \n",
    "    temp[:, 1] = True\n",
    "    data[mask] = temp\n",
    "\n",
    "\n",
    "# Function initializes the data by marking all points as unregistered\n",
    "#\n",
    "# data - data set\n",
    "# return: 2D ndarray of the form: [[<point coord.>], False]\n",
    "def initializeUnregisteredPoints(X):\n",
    "    return np.apply_along_axis(lambda x: np.array([x, False], dtype=object), 1, X)\n"
   ]
  },
  {
   "attachments": {},
   "cell_type": "markdown",
   "id": "5ecf44d7",
   "metadata": {},
   "source": [
    "##### Main algorithm"
   ]
  },
  {
   "cell_type": "code",
   "execution_count": 19,
   "id": "317d48b8",
   "metadata": {},
   "outputs": [
    {
     "name": "stdout",
     "output_type": "stream",
     "text": [
      "Number of communities: 1\n"
     ]
    },
    {
     "data": {
      "text/plain": [
       "[array([[-3.88213038e-01, -7.22060000e-01],\n",
       "        [ 4.61840470e-01,  7.76664727e-01],\n",
       "        [ 2.71149570e-01,  8.93863945e-01],\n",
       "        [ 2.04125899e-01, -5.18950370e-01],\n",
       "        [ 9.80790349e-01, -9.34086361e-01],\n",
       "        [-3.20292111e-01,  6.60497724e-01],\n",
       "        [-9.16138208e-01, -1.82231378e-01],\n",
       "        [ 1.57001865e-01, -4.40324707e-01],\n",
       "        [-8.23792646e-01, -4.40325620e-01],\n",
       "        [-2.71151879e-01,  8.93864134e-01],\n",
       "        [ 7.98558242e-01, -9.16139073e-01],\n",
       "        [-1.82230685e-01,  9.16135767e-01],\n",
       "        [ 7.22059415e-01, -5.92577229e-01],\n",
       "        [-7.76663226e-01, -5.18951175e-01],\n",
       "        [-1.16302045e+00,  9.16137036e-01],\n",
       "        [ 5.12020132e-02,  9.15581830e-02],\n",
       "        [-1.42111502e+00, -8.23788619e-01],\n",
       "        [-2.58732711e-01,  5.92578693e-01],\n",
       "        [-2.58731015e-01, -5.92578716e-01],\n",
       "        [ 1.64128899e+00, -6.60500113e-01],\n",
       "        [ 2.58732639e-01,  5.92577686e-01],\n",
       "        [ 5.18950266e-01, -7.76665204e-01],\n",
       "        [-3.57459026e-01, -8.62984466e-01],\n",
       "        [ 3.20293952e-01, -6.60498746e-01],\n",
       "        [-1.82231400e-01, -9.16138497e-01],\n",
       "        [ 4.61840117e-01, -7.76663513e-01],\n",
       "        [-7.76664155e-01,  5.18949193e-01],\n",
       "        [ 1.70284788e+00, -5.92578567e-01],\n",
       "        [-1.07234798e+00, -9.29587506e-01],\n",
       "        [-1.57336838e+00,  7.22057113e-01],\n",
       "        [ 1.17809946e-01,  3.57460154e-01],\n",
       "        [ 8.89234215e-01,  9.29588132e-01],\n",
       "        [ 2.58732685e-01, -5.92579100e-01],\n",
       "        [ 9.16135793e-01, -1.82231812e-01],\n",
       "        [-8.69251825e-02,  2.71150841e-01],\n",
       "        [ 4.40324792e-01,  8.23790064e-01],\n",
       "        [ 1.84377399e+00, -3.57459247e-01],\n",
       "        [-1.91037755e+00, -9.15570576e-02],\n",
       "        [-9.80789177e-01, -9.34086084e-01],\n",
       "        [-1.87465567e+00, -2.71150842e-01],\n",
       "        [-1.42111579e+00,  8.23790874e-01],\n",
       "        [-6.46530704e-02, -1.82230650e-01],\n",
       "        [ 1.89692723e+00, -1.82230963e-01],\n",
       "        [-4.61839938e-01, -7.76663522e-01],\n",
       "        [-1.49974134e+00,  7.76663288e-01],\n",
       "        [-1.33824884e+00,  8.62983689e-01],\n",
       "        [-1.89692791e+00, -1.82231559e-01],\n",
       "        [ 8.93866415e-01,  2.71150929e-01],\n",
       "        [-1.75745498e+00, -5.18949524e-01],\n",
       "        [ 7.76663302e-01, -5.18951558e-01],\n",
       "        [-2.04125060e-01,  5.18950581e-01],\n",
       "        [ 5.40465114e-01,  8.23791252e-01],\n",
       "        [-9.15573082e-02, -9.29588488e-01],\n",
       "        [-9.80792610e-01,  9.34086850e-01],\n",
       "        [ 1.87465512e+00, -2.71150164e-01],\n",
       "        [-1.84377386e+00,  3.57460413e-01],\n",
       "        [-1.07234591e+00,  9.29588654e-01],\n",
       "        [ 1.57336947e+00, -7.22059067e-01],\n",
       "        [ 5.92577187e-01, -7.22057991e-01],\n",
       "        [-8.89232378e-01, -9.29588457e-01],\n",
       "        [-5.92579093e-01,  7.22058051e-01],\n",
       "        [-6.23331469e-01,  8.62983565e-01],\n",
       "        [ 1.84377326e+00,  3.57457678e-01],\n",
       "        [ 3.20290660e-01,  6.60499554e-01],\n",
       "        [-6.60499430e-01, -6.60501077e-01],\n",
       "        [-3.20292451e-01, -6.60499021e-01],\n",
       "        [ 1.16302098e+00, -9.16136168e-01],\n",
       "        [ 1.75745475e+00,  5.18949505e-01],\n",
       "        [ 1.17808654e-01, -3.57460362e-01],\n",
       "        [ 6.23331377e-01,  8.62981942e-01],\n",
       "        [-8.62983944e-01,  3.57460756e-01],\n",
       "        [ 3.57459408e-01,  8.62983683e-01],\n",
       "        [-4.40326247e-01,  8.23790626e-01],\n",
       "        [-4.67043133e-02, -1.66097759e-07],\n",
       "        [ 6.46538249e-02,  1.82230461e-01],\n",
       "        [-1.70284957e+00,  5.92577653e-01],\n",
       "        [-1.33825187e+00, -8.62984603e-01],\n",
       "        [ 7.76664011e-01,  5.18950846e-01],\n",
       "        [-1.64128952e+00, -6.60498557e-01],\n",
       "        [ 1.89692902e+00,  1.82230252e-01],\n",
       "        [-1.80458247e+00,  4.40324868e-01],\n",
       "        [ 5.18951687e-01,  7.76664362e-01],\n",
       "        [-1.25194286e+00, -8.93863944e-01],\n",
       "        [ 1.80458091e+00,  4.40324639e-01],\n",
       "        [-5.40465360e-01,  8.23789363e-01],\n",
       "        [-1.16302201e+00, -9.16139149e-01],\n",
       "        [ 9.29587871e-01, -9.15565988e-02],\n",
       "        [-8.93863453e-01,  2.71152053e-01],\n",
       "        [ 1.25194162e+00, -8.93863333e-01],\n",
       "        [ 1.07234656e+00, -9.29589202e-01],\n",
       "        [-7.09640452e-01,  8.93864660e-01],\n",
       "        [ 9.29586797e-01,  9.15564622e-02],\n",
       "        [ 4.67047351e-02, -1.93315338e-07],\n",
       "        [-8.62983840e-01, -3.57458916e-01],\n",
       "        [-1.91037686e+00,  9.15568369e-02],\n",
       "        [ 8.93863754e-01, -2.71150666e-01],\n",
       "        [ 5.12024013e-02, -9.15570296e-02],\n",
       "        [ 1.75745554e+00, -5.18951756e-01],\n",
       "        [ 8.89233635e-01, -9.29588671e-01],\n",
       "        [ 8.69251274e-02, -2.71150199e-01],\n",
       "        [ 1.91037915e+00, -9.15565216e-02],\n",
       "        [-1.89692842e+00,  1.82230456e-01],\n",
       "        [-5.92579086e-01, -7.22058831e-01],\n",
       "        [-3.57459892e-01,  8.62984674e-01],\n",
       "        [-1.49974033e+00, -7.76663738e-01],\n",
       "        [ 1.57336788e+00,  7.22060368e-01],\n",
       "        [ 1.82231114e-01,  9.16138084e-01],\n",
       "        [-7.09640581e-01, -8.93864907e-01],\n",
       "        [-8.93864277e-01, -2.71151225e-01],\n",
       "        [ 3.79807278e-07, -9.34085553e-01],\n",
       "        [ 6.60499806e-01, -6.60499091e-01],\n",
       "        [-1.64128860e+00,  6.60500358e-01],\n",
       "        [-1.17806654e-01,  3.57458791e-01],\n",
       "        [ 1.80457849e+00, -4.40326173e-01],\n",
       "        [ 4.40323975e-01, -8.23790474e-01],\n",
       "        [-4.61839375e-01,  7.76663550e-01],\n",
       "        [-1.57336723e+00, -7.22058500e-01],\n",
       "        [ 7.22057496e-01,  5.92577164e-01],\n",
       "        [-7.22059629e-01,  5.92576732e-01],\n",
       "        [-1.87465562e+00,  2.71150277e-01],\n",
       "        [-5.18950391e-01, -7.76663972e-01],\n",
       "        [ 7.09640228e-01,  8.93864377e-01],\n",
       "        [ 3.88213933e-01,  7.22058214e-01],\n",
       "        [-8.89232337e-01,  9.29588778e-01],\n",
       "        [ 3.57460142e-01, -8.62981229e-01],\n",
       "        [ 8.23791586e-01, -4.40324489e-01],\n",
       "        [-9.15577130e-02,  9.29589268e-01],\n",
       "        [-1.56999793e-01,  4.40325251e-01],\n",
       "        [-3.88213329e-01,  7.22059911e-01],\n",
       "        [ 5.92578713e-01,  7.22057086e-01],\n",
       "        [ 1.07234790e+00,  9.29588069e-01],\n",
       "        [ 1.16302045e+00,  9.16137818e-01],\n",
       "        [ 9.15541525e-02, -9.29588062e-01],\n",
       "        [ 1.33824909e+00,  8.62983114e-01],\n",
       "        [ 6.23332114e-01, -8.62983355e-01],\n",
       "        [-1.80457981e+00, -4.40324549e-01],\n",
       "        [ 3.88212998e-01, -7.22057690e-01],\n",
       "        [-2.04125309e-01, -5.18951482e-01],\n",
       "        [-6.23329541e-01, -8.62982549e-01],\n",
       "        [ 6.46524571e-02, -1.82230948e-01],\n",
       "        [ 1.49974029e+00,  7.76664811e-01],\n",
       "        [ 7.98561807e-01,  9.16140533e-01],\n",
       "        [ 1.56999249e-01,  4.40323365e-01],\n",
       "        [-5.12007005e-02, -9.15571524e-02],\n",
       "        [-1.56997914e-01, -4.40325677e-01],\n",
       "        [ 9.16139267e-01,  1.82230206e-01],\n",
       "        [-8.23790940e-01,  4.40323950e-01],\n",
       "        [ 8.69254192e-02,  2.71150355e-01],\n",
       "        [-2.71151616e-01, -8.93863210e-01],\n",
       "        [-9.29589115e-01, -9.15566225e-02],\n",
       "        [ 1.91487651e+00,  5.44862836e-07],\n",
       "        [-7.98558530e-01, -9.16136035e-01],\n",
       "        [ 8.62982213e-01,  3.57459791e-01],\n",
       "        [ 5.40464726e-01, -8.23792326e-01],\n",
       "        [ 9.15576477e-02,  9.29587508e-01],\n",
       "        [-7.98559737e-01,  9.16138097e-01],\n",
       "        [-7.22058435e-01, -5.92578117e-01],\n",
       "        [ 1.42111448e+00, -8.23790729e-01],\n",
       "        [-1.70284870e+00, -5.92577939e-01],\n",
       "        [ 1.49974220e+00, -7.76662953e-01],\n",
       "        [-6.60498978e-01,  6.60499264e-01],\n",
       "        [-1.17806969e-01, -3.57459403e-01],\n",
       "        [-1.25194246e+00,  8.93864113e-01],\n",
       "        [ 7.09640055e-01, -8.93863529e-01],\n",
       "        [-8.69258473e-02, -2.71150412e-01],\n",
       "        [-1.84377541e+00, -3.57459500e-01],\n",
       "        [ 6.60498270e-01,  6.60497216e-01],\n",
       "        [ 9.34085023e-01, -1.10554888e-07],\n",
       "        [ 1.42111613e+00,  8.23791235e-01],\n",
       "        [ 1.25194067e+00,  8.93866121e-01],\n",
       "        [ 8.62983930e-01, -3.57461156e-01],\n",
       "        [ 2.71150689e-01, -8.93864589e-01],\n",
       "        [ 1.70284808e+00,  5.92577843e-01],\n",
       "        [-1.75745564e+00,  5.18950072e-01],\n",
       "        [ 1.33824954e+00, -8.62983967e-01],\n",
       "        [ 1.64128856e+00,  6.60499160e-01],\n",
       "        [ 2.27079506e-06,  9.34087115e-01],\n",
       "        [-1.91487637e+00,  1.10206610e-06],\n",
       "        [ 9.80790622e-01,  9.34086011e-01],\n",
       "        [-9.34085231e-01, -1.25029847e-07],\n",
       "        [ 1.87465452e+00,  2.71149409e-01],\n",
       "        [-9.29588419e-01,  9.15577442e-02],\n",
       "        [ 8.23791680e-01,  4.40325432e-01],\n",
       "        [-6.46536008e-02,  1.82230583e-01],\n",
       "        [-5.18950638e-01,  7.76663600e-01],\n",
       "        [-4.40324506e-01, -8.23789770e-01],\n",
       "        [-5.12016598e-02,  9.15554245e-02],\n",
       "        [-9.16138287e-01,  1.82231681e-01],\n",
       "        [ 1.82230265e-01, -9.16139020e-01],\n",
       "        [-5.40464846e-01, -8.23790053e-01],\n",
       "        [ 1.91037882e+00,  9.15564657e-02],\n",
       "        [ 2.04125504e-01,  5.18950505e-01]])]"
      ]
     },
     "execution_count": 19,
     "metadata": {},
     "output_type": "execute_result"
    }
   ],
   "source": [
    "# Function executes faithful sampling algorithm\n",
    "# (based on: https://bmcbioinformatics.biomedcentral.com/counter/pdf/10.1186/1471-2105-11-403.pdf)\n",
    "#\n",
    "# X - data set\n",
    "# m - maximal number of communities in a single cluster\n",
    "# return: points aggregated in communities\n",
    "def faithfulSampling(X, m = 10):\n",
    "\n",
    "    dim = len(X[0])              # dimension of the data set\n",
    "    n = len(X)                   # size of the data set\n",
    "    V = n * dim                  # space volume\n",
    "\n",
    "    h = (1/2) * (V/m)**(1/dim)   # initializing h\n",
    "    m1 = m                       # setting initial communities size\n",
    "\n",
    "    \n",
    "    # iterate untill size of h will no longer be adjustable\n",
    "    while((m/2) <= m1 and m1 <= m):\n",
    "\n",
    "        data = initializeUnregisteredPoints(X) # mark all data points as unregistered\n",
    "        communities = []                       # initialize communities buckets\n",
    "        \n",
    "        # iterate until all data points are registered\n",
    "        while(np.any(data[:, 1] == False)):\n",
    "\n",
    "            unregistered = data[data[:, 1] == False][:, 0]          # taking unregistered data\n",
    "            randomPt = np.random.choice(unregistered, 1)[0]         # selecting random data point\n",
    "\n",
    "            community = np.empty((0,2))                             # initializing local community\n",
    "\n",
    "            for pt in unregistered:\n",
    "                distance = np.linalg.norm(pt - randomPt)            # computing euclidean distance\n",
    "\n",
    "                if(distance < h):\n",
    "                    markPointRegistered(pt, data)                    # marking point as registered\n",
    "                    community = np.append(community, [pt], axis=0)   # adding point to local community\n",
    "\n",
    "            communities.append(community)\n",
    "        \n",
    "        m1 = len(communities)       # computing new maximal community length\n",
    "        h = h * (m1/m)**(1/dim)     # adjusting maximal distance\n",
    "\n",
    "    print(f\"Number of communities: {len(communities)}\")\n",
    "    return communities\n",
    "\n",
    "faithfulSampling(X, 5)"
   ]
  },
  {
   "cell_type": "code",
   "execution_count": 16,
   "id": "11102aa4",
   "metadata": {},
   "outputs": [
    {
     "name": "stdout",
     "output_type": "stream",
     "text": [
      "Number of communities: 1\n"
     ]
    }
   ],
   "source": [
    "from sklearn.neighbors import NearestNeighbors\n",
    "from sklearn.neighbors import kneighbors_graph\n",
    "import numpy as np\n",
    "\n",
    "def adjacencyMatrixUsingMnearestNeighbors(X, M = 5):\n",
    "    \n",
    "    knn = NearestNeighbors(n_neighbors=M)\n",
    "    knn.fit(X)\n",
    "    dist_indx_arr = knn.kneighbors(X, return_distance=True, n_neighbors = M)\n",
    "    \n",
    "    A = kneighbors_graph(X, n_neighbors=(M-1), p=2, mode='connectivity', include_self=False)\n",
    "    return A.toarray(), dist_indx_arr # dist_indx_arr will be useful while connecting the graph\n",
    "    \n",
    "    \n",
    "def connectTheGraph(A, dist_indx_arr=None):\n",
    "    \n",
    "    # to be implemented\n",
    "    \n",
    "    return A\n",
    "\n",
    "def graphLaplacian(A):\n",
    "    D = np.eye(A.shape[0]) * A.sum(axis=0) # diagonal matrix of degrees\n",
    "    return D  - A # L = D - A\n",
    "    \n",
    "\n",
    "\n",
    "\n",
    "def calculateEigenVectorsOfGraphLaplacian(L):\n",
    "    eigenValues, eigenVectors = np.linalg.eig(L)\n",
    "    eigenValues, eigenVectors = eigenValues.real, eigenVectors.real\n",
    "    \n",
    "    idx = eigenValues.argsort()[::1]   \n",
    "    eigenValues = eigenValues[idx]\n",
    "    eigenVectors = eigenVectors[:,idx]\n",
    "    \n",
    "    return eigenValues,eigenVectors\n",
    "    \n",
    "    \n",
    "    \n",
    "def nodeRepresentation(eigenVectors, nodeRepresentationDim, n_of_components=1):\n",
    "    m = n_of_components # we assume n of connected components = 1\n",
    "    Z = eigenVectors[:,m:(nodeRepresentationDim + m)] # we omit m first eigenvectors, where m is the number of components of graph from A\n",
    "    return Z\n",
    "    \n",
    "    \n",
    "    \n",
    "    \n",
    "    "
   ]
  },
  {
   "cell_type": "code",
   "execution_count": null,
   "id": "4e31e25e",
   "metadata": {},
   "outputs": [],
   "source": [
    "from sklearn.cluster import KMeans\n",
    "\n",
    "X, labels = importSmallerArtificialData()\n",
    "\n",
    "\n",
    "def spectralClustering(X, n_of_clusters=3, M=3, nodeRepresentationDim=3):\n",
    "    \n",
    "    A, d = adjacencyMatrixUsingMnearestNeighbors(X, M=M)\n",
    "    A_connected = connectTheGraph(A, d)\n",
    "    L = graphLaplacian(A_connected)\n",
    "    w,v = calculateEigenVectorsOfGraphLaplacian(L)\n",
    "    Z = nodeRepresentation(v,nodeRepresentationDim,n_of_components=1)\n",
    "    \n",
    "\n",
    "    print(Z.shape)\n",
    "    kmeans = KMeans(n_clusters=n_of_clusters, random_state=0, n_init=100).fit(Z)\n",
    "    return kmeans.labels_\n",
    "\n",
    "\n",
    "\n"
   ]
  },
  {
   "cell_type": "code",
   "execution_count": null,
   "id": "f0753236",
   "metadata": {},
   "outputs": [
    {
     "name": "stdout",
     "output_type": "stream",
     "text": [
      "(192, 3)\n"
     ]
    },
    {
     "data": {
      "text/plain": [
       "array([1, 1, 1, 1, 1, 1, 0, 1, 0, 1, 1, 1, 1, 0, 2, 1, 2, 1, 1, 1, 1, 1,\n",
       "       1, 1, 1, 1, 0, 1, 2, 2, 1, 1, 1, 1, 1, 1, 1, 2, 2, 2, 2, 1, 1, 1,\n",
       "       2, 2, 2, 1, 2, 1, 1, 1, 1, 2, 1, 2, 2, 1, 1, 2, 1, 1, 1, 1, 1, 1,\n",
       "       1, 1, 1, 1, 0, 1, 1, 1, 1, 2, 2, 1, 2, 1, 2, 1, 2, 1, 1, 2, 1, 0,\n",
       "       1, 1, 1, 1, 1, 0, 2, 1, 1, 1, 1, 1, 1, 2, 1, 1, 2, 1, 1, 1, 0, 1,\n",
       "       1, 2, 1, 1, 1, 1, 2, 1, 1, 2, 1, 1, 1, 1, 1, 1, 1, 1, 1, 1, 1, 1,\n",
       "       1, 1, 1, 2, 1, 1, 1, 1, 1, 1, 1, 1, 1, 1, 0, 1, 1, 0, 1, 2, 1, 1,\n",
       "       1, 1, 0, 1, 2, 1, 1, 1, 2, 1, 1, 2, 1, 1, 1, 1, 1, 1, 1, 2, 1, 1,\n",
       "       1, 2, 1, 0, 1, 0, 1, 1, 1, 1, 1, 0, 1, 1, 1, 1])"
      ]
     },
     "execution_count": 17,
     "metadata": {},
     "output_type": "execute_result"
    }
   ],
   "source": [
    "spectralClustering(X, n_of_clusters=3, nodeRepresentationDim=3, M=10)"
   ]
  },
  {
   "cell_type": "code",
   "execution_count": null,
   "id": "caa0c820",
   "metadata": {},
   "outputs": [
    {
     "name": "stdout",
     "output_type": "stream",
     "text": [
      "(192, 3)\n"
     ]
    },
    {
     "data": {
      "text/plain": [
       "0.1556657165149489"
      ]
     },
     "execution_count": 18,
     "metadata": {},
     "output_type": "execute_result"
    }
   ],
   "source": [
    "from sklearn.metrics import adjusted_rand_score as AR\n",
    "\n",
    "spectral_labels = spectralClustering(X, n_of_clusters=3, nodeRepresentationDim=3, M=10)\n",
    "\n",
    "AR(spectral_labels, labels[0])"
   ]
  }
 ],
 "metadata": {
  "kernelspec": {
   "display_name": "Python 3",
   "language": "python",
   "name": "python3"
  },
  "language_info": {
   "codemirror_mode": {
    "name": "ipython",
    "version": 3
   },
   "file_extension": ".py",
   "mimetype": "text/x-python",
   "name": "python",
   "nbconvert_exporter": "python",
   "pygments_lexer": "ipython3",
   "version": "3.8.2"
  },
  "vscode": {
   "interpreter": {
    "hash": "570feb405e2e27c949193ac68f46852414290d515b0ba6e5d90d076ed2284471"
   }
  }
 },
 "nbformat": 4,
 "nbformat_minor": 5
}
